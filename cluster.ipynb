{
 "cells": [
  {
   "cell_type": "code",
   "execution_count": 1,
   "metadata": {},
   "outputs": [],
   "source": [
    "import math\n",
    "import re\n",
    "import heapq\n",
    "import csv\n",
    "\n",
    "import pandas as pd\n",
    "import numpy as np"
   ]
  },
  {
   "cell_type": "code",
   "execution_count": 2,
   "metadata": {},
   "outputs": [],
   "source": [
    "import numpy.linalg as LA\n",
    "\n",
    "from sklearn.feature_extraction.text import CountVectorizer\n",
    "from sklearn.feature_extraction.text import TfidfTransformer"
   ]
  },
  {
   "cell_type": "code",
   "execution_count": 26,
   "metadata": {},
   "outputs": [],
   "source": [
    "filename = './unique_sorted_split.txt'\n",
    "df = pd.read_csv(filename, names=[\"Organization\"], quoting=csv.QUOTE_NONE)"
   ]
  },
  {
   "cell_type": "code",
   "execution_count": 101,
   "metadata": {
    "scrolled": false
   },
   "outputs": [
    {
     "name": "stderr",
     "output_type": "stream",
     "text": [
      "/anaconda2/envs/py36/lib/python3.6/site-packages/ipykernel/__main__.py:15: RuntimeWarning: invalid value encountered in true_divide\n",
      "/anaconda2/envs/py36/lib/python3.6/site-packages/ipykernel/__main__.py:22: RuntimeWarning: invalid value encountered in true_divide\n"
     ]
    }
   ],
   "source": [
    "outfile = open(\"text.txt\", \"w\")\n",
    "\n",
    "threshold = 0.5\n",
    "vectorizer = CountVectorizer()\n",
    "transformer = TfidfTransformer()\n",
    "corpus = set()\n",
    "\n",
    "for i, s in df.iterrows():\n",
    "    if not corpus:\n",
    "        label = s.Organization\n",
    "        corpus.update(re.sub('[^A-Za-z0-9 ]+', '', s.Organization).split())\n",
    "\n",
    "    train = vectorizer.fit_transform([' '.join(corpus)]).toarray()\n",
    "    test = vectorizer.transform([s.Organization]).toarray()\n",
    "    score = (np.inner(train, test)/(LA.norm(train)*LA.norm(test)))[0][0]\n",
    "\n",
    "    if np.isnan(score) or score < threshold:\n",
    "        corpus = set()\n",
    "        corpus.update(re.sub('[^A-Za-z0-9 ]+', '', s.Organization).split())\n",
    "        train = vectorizer.fit_transform([' '.join(corpus)]).toarray()\n",
    "        test = vectorizer.transform([s.Organization]).toarray()\n",
    "        score = (np.inner(train, test)/(LA.norm(train)*LA.norm(test)))[0][0]\n",
    "        label = s.Organization\n",
    "\n",
    "    outfile.write(label + \"\\n\")\n",
    "\n",
    "outfile.close()"
   ]
  },
  {
   "cell_type": "code",
   "execution_count": null,
   "metadata": {},
   "outputs": [],
   "source": []
  }
 ],
 "metadata": {
  "kernelspec": {
   "display_name": "Python [conda env:py36]",
   "language": "python",
   "name": "conda-env-py36-py"
  },
  "language_info": {
   "codemirror_mode": {
    "name": "ipython",
    "version": 3
   },
   "file_extension": ".py",
   "mimetype": "text/x-python",
   "name": "python",
   "nbconvert_exporter": "python",
   "pygments_lexer": "ipython3",
   "version": "3.6.7"
  }
 },
 "nbformat": 4,
 "nbformat_minor": 2
}
