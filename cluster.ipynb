{
 "cells": [
  {
   "cell_type": "code",
   "execution_count": 1,
   "metadata": {},
   "outputs": [],
   "source": [
    "import math\n",
    "import re\n",
    "import heapq\n",
    "import csv\n",
    "\n",
    "import pandas as pd\n",
    "import numpy as np\n",
    "\n",
    "import time"
   ]
  },
  {
   "cell_type": "code",
   "execution_count": 2,
   "metadata": {},
   "outputs": [],
   "source": [
    "import numpy.linalg as LA\n",
    "\n",
    "from IPython.display import clear_output\n",
    "from fingerprint.fingerprint import get_fingerprint\n",
    "from sklearn.feature_extraction.text import TfidfVectorizer\n",
    "from sklearn.feature_extraction.text import TfidfTransformer"
   ]
  },
  {
   "cell_type": "markdown",
   "metadata": {},
   "source": [
    "\n",
    "## Settings"
   ]
  },
  {
   "cell_type": "code",
   "execution_count": 3,
   "metadata": {},
   "outputs": [],
   "source": [
    "input_filename = 'data/unique_sorted_split.txt' \n",
    "\n",
    "#output_filename = 'output/clustered.txt'\n",
    "mapping_filename = 'output/mapping_clusters.csv'\n",
    "label_filename = 'output/labels_clusters.csv'\n",
    "\n",
    "threshold = 0.85"
   ]
  },
  {
   "cell_type": "markdown",
   "metadata": {},
   "source": [
    "\n",
    "## Load data"
   ]
  },
  {
   "cell_type": "code",
   "execution_count": 4,
   "metadata": {},
   "outputs": [],
   "source": [
    "df = pd.read_csv(input_filename, names=[\"Organization\"], quoting=csv.QUOTE_NONE)"
   ]
  },
  {
   "cell_type": "markdown",
   "metadata": {},
   "source": [
    "\n",
    "## Run Tf Idf Clustering"
   ]
  },
  {
   "cell_type": "code",
   "execution_count": 5,
   "metadata": {},
   "outputs": [],
   "source": [
    "id_table = {}\n",
    "ID = 0\n",
    "\n",
    "def get_id(label, label_file):\n",
    "    global ID\n",
    "    if label not in id_table:\n",
    "        ID += 1        \n",
    "        id_table[label] = ID\n",
    "        label_file.write(f\"{ID},{label}\")\n",
    "    return id_table[label]\n",
    "    "
   ]
  },
  {
   "cell_type": "code",
   "execution_count": null,
   "metadata": {
    "scrolled": false
   },
   "outputs": [
    {
     "name": "stdout",
     "output_type": "stream",
     "text": [
      "310000 / 3261955\n",
      "Elapsed: 1372.5081799030304s\n"
     ]
    }
   ],
   "source": [
    "labels = open(label_filename, \"w\")\n",
    "mapping = open(mapping_filename, \"w\")\n",
    "\n",
    "vectorizer = TfidfVectorizer()\n",
    "corpus = set()\n",
    "\n",
    "start = time.time()\n",
    "\n",
    "for i, s in df.iterrows():\n",
    "    if i % 10000 == 0:\n",
    "        clear_output()\n",
    "        print(f\"{i} / {df.shape[0]}\\nElapsed: {time.time()-start}s\")\n",
    "        \n",
    "    original_string = s.Organization\n",
    "    cleaned_string = get_fingerprint(original_string)\n",
    "    \n",
    "    if len(cleaned_string.split()) < 2:\n",
    "        mapping.write(f\"{original_string},-1\\n\")\n",
    "        continue\n",
    "    \n",
    "    if not corpus: # Create initial cluster\n",
    "        label = cleaned_string\n",
    "        corpus = set()\n",
    "        corpus.update(cleaned_string.split())\n",
    "    else:\n",
    "        train = vectorizer.fit_transform([' '.join(corpus)]).toarray()\n",
    "        test = vectorizer.transform([cleaned_string]).toarray() # Should this be original or cleand label?\n",
    "        score = (np.inner(train, test)/(LA.norm(train)*LA.norm(test)))[0][0]\n",
    "\n",
    "        if np.isnan(score) or score < threshold: # Create new cluster\n",
    "            corpus = set()\n",
    "            corpus.update(cleaned_string.split())\n",
    "            train = vectorizer.fit_transform([' '.join(corpus)]).toarray()\n",
    "            test = vectorizer.transform([cleaned_string]).toarray() # Should this be original or cleand label?\n",
    "            score = (np.inner(train, test)/(LA.norm(train)*LA.norm(test)))[0][0]\n",
    "            label = cleaned_string\n",
    "\n",
    "    #labels.write(f\"{get_id(label, l)},{label}\\n\")\n",
    "    mapping.write(f\"{original_string},{get_id(label, labels)}\\n\")\n",
    "\n",
    "labels.close()\n",
    "mapping.close()"
   ]
  },
  {
   "cell_type": "code",
   "execution_count": null,
   "metadata": {},
   "outputs": [],
   "source": []
  }
 ],
 "metadata": {
  "kernelspec": {
   "display_name": "Python 3",
   "language": "python",
   "name": "python3"
  },
  "language_info": {
   "codemirror_mode": {
    "name": "ipython",
    "version": 3
   },
   "file_extension": ".py",
   "mimetype": "text/x-python",
   "name": "python",
   "nbconvert_exporter": "python",
   "pygments_lexer": "ipython3",
   "version": "3.7.2"
  }
 },
 "nbformat": 4,
 "nbformat_minor": 2
}
