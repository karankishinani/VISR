{
 "cells": [
  {
   "cell_type": "code",
   "execution_count": 13,
   "metadata": {},
   "outputs": [],
   "source": [
    "import math\n",
    "import re\n",
    "import heapq\n",
    "import csv\n",
    "\n",
    "import pandas as pd\n",
    "import numpy as np\n",
    "\n",
    "import time"
   ]
  },
  {
   "cell_type": "code",
   "execution_count": 14,
   "metadata": {},
   "outputs": [],
   "source": [
    "import numpy.linalg as LA\n",
    "\n",
    "from IPython.display import clear_output\n",
    "from fingerprint.fingerprint import get_fingerprint\n",
    "from sklearn.feature_extraction.text import TfidfVectorizer\n",
    "from sklearn.feature_extraction.text import CountVectorizer\n",
    "from sklearn.feature_extraction.text import TfidfTransformer"
   ]
  },
  {
   "cell_type": "markdown",
   "metadata": {},
   "source": [
    "#### Before you start, make sure you add the unqie instition name file to the data folder and create the output folder"
   ]
  },
  {
   "cell_type": "markdown",
   "metadata": {},
   "source": [
    "\n",
    "## Settings"
   ]
  },
  {
   "cell_type": "code",
   "execution_count": 19,
   "metadata": {},
   "outputs": [],
   "source": [
    "input_filename = 'data/unique_sorted_split.txt' \n",
    "\n",
    "mapping_filename = 'output/mapping_clusters.csv'\n",
    "label_filename = 'output/labels_clusters.csv'\n",
    "\n",
    "threshold = 0.85"
   ]
  },
  {
   "cell_type": "markdown",
   "metadata": {},
   "source": [
    "\n",
    "## Load data"
   ]
  },
  {
   "cell_type": "code",
   "execution_count": 20,
   "metadata": {},
   "outputs": [],
   "source": [
    "df = pd.read_csv(input_filename, names=[\"ID\", \"Organization\"], quoting=csv.QUOTE_NONE)"
   ]
  },
  {
   "cell_type": "markdown",
   "metadata": {},
   "source": [
    "\n",
    "## Run Tf Idf Clustering"
   ]
  },
  {
   "cell_type": "code",
   "execution_count": 21,
   "metadata": {},
   "outputs": [],
   "source": [
    "id_table = {}\n",
    "ID = 0"
   ]
  },
  {
   "cell_type": "code",
   "execution_count": null,
   "metadata": {
    "scrolled": false
   },
   "outputs": [],
   "source": [
    "id_table_file = open(label_filename, \"w\")\n",
    "mapping = open(mapping_filename, \"w\")\n",
    "\n",
    "vectorizer = TfidfVectorizer()\n",
    "\n",
    "label = get_fingerprint(df.ix[0].Organization)\n",
    "\n",
    "corpus = set()\n",
    "corpus.update(label.split())\n",
    "\n",
    "start = time.time()\n",
    "\n",
    "for i, s in df.iterrows():\n",
    "    if i % 10000 == 0 :\n",
    "        clear_output()\n",
    "        elapsed = time.time()-start\n",
    "        print(f\"Latest label: {label}\")\n",
    "        print(f\"{i} / {df.shape[0]}\\nElapsed: {elapsed}\")\n",
    "        print(f\"Estimated timeleft: {df.shape[0]/float(i+1)*elapsed/60/60}h\")\n",
    "        \n",
    "    original_string = s.Organization\n",
    "    cleaned_string = get_fingerprint(original_string)\n",
    "    cleaned_split = cleaned_string.split()\n",
    "    \n",
    "    if len(cleaned_split) < 2:\n",
    "        mapping.write(f\"{original_string},-1\\n\")\n",
    "        continue\n",
    "\n",
    "    train = vectorizer.fit_transform([' '.join(corpus)]).toarray()\n",
    "    test = vectorizer.transform([cleaned_string]).toarray()\n",
    "    score = (np.inner(train, test)/(LA.norm(train)*LA.norm(test)))[0][0]\n",
    "\n",
    "    if np.isnan(score) or score < threshold: # Create new cluster\n",
    "        corpus = set()\n",
    "        corpus.update(cleaned_split)\n",
    "        train = vectorizer.fit_transform([' '.join(corpus)]).toarray()\n",
    "        test = vectorizer.transform([cleaned_string]).toarray()\n",
    "        score = (np.inner(train, test)/(LA.norm(train)*LA.norm(test)))[0][0]\n",
    "        label = cleaned_string\n",
    "    \n",
    "    if label not in id_table: # Create new cluster group if not exists\n",
    "        ID += 1        \n",
    "        id_table[label] = ID\n",
    "        id_table_file.write(f\"{ID},{label}\\n\")\n",
    "        \n",
    "    label_id = id_table[label]\n",
    "    mapping.write(f\"{original_string},{label_id}\\n\")\n",
    "\n",
    "labels.close()\n",
    "mapping.close()"
   ]
  }
 ],
 "metadata": {
  "kernelspec": {
   "display_name": "Python 3",
   "language": "python",
   "name": "python3"
  },
  "language_info": {
   "codemirror_mode": {
    "name": "ipython",
    "version": 3
   },
   "file_extension": ".py",
   "mimetype": "text/x-python",
   "name": "python",
   "nbconvert_exporter": "python",
   "pygments_lexer": "ipython3",
   "version": "3.6.7"
  }
 },
 "nbformat": 4,
 "nbformat_minor": 2
}
