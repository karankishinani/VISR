{
 "cells": [
  {
   "cell_type": "code",
   "execution_count": 1,
   "metadata": {},
   "outputs": [],
   "source": [
    "import math\n",
    "import re\n",
    "import heapq\n",
    "\n",
    "import pandas as pd\n",
    "import numpy as np"
   ]
  },
  {
   "cell_type": "markdown",
   "metadata": {},
   "source": [
    "# Read line by line, remove any special characters but white space"
   ]
  },
  {
   "cell_type": "code",
   "execution_count": 2,
   "metadata": {},
   "outputs": [
    {
     "data": {
      "text/plain": [
       "'104 Nash Hall Department of Fisheries and Wildlife Oregon State University Corvallis OR 973317501'"
      ]
     },
     "execution_count": 2,
     "metadata": {},
     "output_type": "execute_result"
    }
   ],
   "source": [
    "test = \"\\\\+++|||\\n\\t104 Nash,,, Hall, Departm$$$ent of ###Fisheri##es and Wildlife; Oregon State University, Corvallis, OR 97331-7501.\"\n",
    "re.sub('[^A-Za-z0-9 ]+', '', test)\n",
    "# re.split(\", |; | \", t)\n",
    "# ''.join(e for e in t if e.isalnum())"
   ]
  },
  {
   "cell_type": "code",
   "execution_count": 150,
   "metadata": {},
   "outputs": [],
   "source": [
    "test = \"./data/final_orgs.txt\"\n",
    "samples = 1000\n",
    "query = []\n",
    "with open(test) as f:\n",
    "    while samples > 0:\n",
    "        query.append(re.sub('[^A-Za-z0-9 ]+', '', (next(f))))\n",
    "        samples -= 1\n",
    "\n",
    "# Remove empty string\n",
    "query = query[62:]"
   ]
  },
  {
   "cell_type": "code",
   "execution_count": 151,
   "metadata": {},
   "outputs": [
    {
     "data": {
      "text/plain": [
       "['Community College of the Air Force 130 W Maxwell Blvd Montgomery AL 361126613',\n",
       " 'Community College of the Air Force 2250 Stanley Road Unit 161 Fort Sam Houston TX 782346400',\n",
       " 'Alabama A  M University 4900 Meridian Street Normal AL 35762',\n",
       " 'University of Alabama at Birmingham 1720 2nd Avenue South Birmingham AL 35233',\n",
       " 'UAB School of Optometry 1716 University Boulevard Birmingham AL 35294']"
      ]
     },
     "execution_count": 151,
     "metadata": {},
     "output_type": "execute_result"
    }
   ],
   "source": [
    "train = \"./data/academics.csv\"\n",
    "df = pd.read_csv(train)\n",
    "data = df.Features.tolist()\n",
    "data[:5]"
   ]
  },
  {
   "cell_type": "code",
   "execution_count": 18,
   "metadata": {},
   "outputs": [
    {
     "data": {
      "text/html": [
       "<div>\n",
       "<style scoped>\n",
       "    .dataframe tbody tr th:only-of-type {\n",
       "        vertical-align: middle;\n",
       "    }\n",
       "\n",
       "    .dataframe tbody tr th {\n",
       "        vertical-align: top;\n",
       "    }\n",
       "\n",
       "    .dataframe thead th {\n",
       "        text-align: right;\n",
       "    }\n",
       "</style>\n",
       "<table border=\"1\" class=\"dataframe\">\n",
       "  <thead>\n",
       "    <tr style=\"text-align: right;\">\n",
       "      <th></th>\n",
       "      <th>University</th>\n",
       "      <th>Features</th>\n",
       "    </tr>\n",
       "  </thead>\n",
       "  <tbody>\n",
       "    <tr>\n",
       "      <th>19858</th>\n",
       "      <td>Middlebury College</td>\n",
       "      <td>Middlebury College at Bread Loaf School of Eng...</td>\n",
       "    </tr>\n",
       "    <tr>\n",
       "      <th>19156</th>\n",
       "      <td>Tennessee College of Applied Technology  Ripley</td>\n",
       "      <td>Bells Instructional Service Center 6514 Highwa...</td>\n",
       "    </tr>\n",
       "    <tr>\n",
       "      <th>11079</th>\n",
       "      <td>Ross Medical Education Center</td>\n",
       "      <td>Ross Medical Education Center  Charleston 5707...</td>\n",
       "    </tr>\n",
       "    <tr>\n",
       "      <th>26012</th>\n",
       "      <td>MarksTo Beauty Academy</td>\n",
       "      <td>MarksTo Beauty Academy 1614 Brentwood Drive Pi...</td>\n",
       "    </tr>\n",
       "    <tr>\n",
       "      <th>16740</th>\n",
       "      <td>Wright State University</td>\n",
       "      <td>Wright State University at Washington Court Ho...</td>\n",
       "    </tr>\n",
       "    <tr>\n",
       "      <th>10476</th>\n",
       "      <td>Central Michigan University</td>\n",
       "      <td>Central Michigan University at Offutt AFB Cent...</td>\n",
       "    </tr>\n",
       "    <tr>\n",
       "      <th>22461</th>\n",
       "      <td>Northwest Technology CenterFairview</td>\n",
       "      <td>Northwest Technology CenterFairview 801 Tech D...</td>\n",
       "    </tr>\n",
       "    <tr>\n",
       "      <th>4081</th>\n",
       "      <td>American Health Information Management Associa...</td>\n",
       "      <td>American Health Information Management Associa...</td>\n",
       "    </tr>\n",
       "    <tr>\n",
       "      <th>13365</th>\n",
       "      <td>Bellevue University</td>\n",
       "      <td>Bellevue University at Western Iowa Technical ...</td>\n",
       "    </tr>\n",
       "    <tr>\n",
       "      <th>26037</th>\n",
       "      <td>American English College</td>\n",
       "      <td>American English College 111 N Atlantic Blvd S...</td>\n",
       "    </tr>\n",
       "    <tr>\n",
       "      <th>12074</th>\n",
       "      <td>Southwest Minnesota State University</td>\n",
       "      <td>Southwest Minnesota State University at Watert...</td>\n",
       "    </tr>\n",
       "    <tr>\n",
       "      <th>7041</th>\n",
       "      <td>ITT Technical Institute  Indianapolis</td>\n",
       "      <td>ITT Technical Institute  Pittsburgh 5460 Campb...</td>\n",
       "    </tr>\n",
       "    <tr>\n",
       "      <th>10241</th>\n",
       "      <td>Simmons University</td>\n",
       "      <td>Simmons College at Eric Carle Museum of Pictur...</td>\n",
       "    </tr>\n",
       "    <tr>\n",
       "      <th>14073</th>\n",
       "      <td>Lincoln Technical Institute</td>\n",
       "      <td>Lincoln Technical Institute 2299 Vauxhall Rd U...</td>\n",
       "    </tr>\n",
       "    <tr>\n",
       "      <th>9389</th>\n",
       "      <td>University of Maryland  College Park</td>\n",
       "      <td>University of Maryland  College Park at McDani...</td>\n",
       "    </tr>\n",
       "    <tr>\n",
       "      <th>23585</th>\n",
       "      <td>Lamar Institute of Technology</td>\n",
       "      <td>Utility Line Tech 1355 Martin Luther King Sils...</td>\n",
       "    </tr>\n",
       "    <tr>\n",
       "      <th>11797</th>\n",
       "      <td>Saint Marys University of Minnesota</td>\n",
       "      <td>Saint Marys University of Minnesota at Capitol...</td>\n",
       "    </tr>\n",
       "    <tr>\n",
       "      <th>1293</th>\n",
       "      <td>Western International University</td>\n",
       "      <td>Western International University  Peoria Campu...</td>\n",
       "    </tr>\n",
       "    <tr>\n",
       "      <th>17025</th>\n",
       "      <td>University of Oklahoma</td>\n",
       "      <td>University of Oklahoma at Duncan Regional Hosp...</td>\n",
       "    </tr>\n",
       "    <tr>\n",
       "      <th>343</th>\n",
       "      <td>Maricopa Community Colleges  Glendale Communit...</td>\n",
       "      <td>Moon Valley High School 3625 W Cactus Rd Phoen...</td>\n",
       "    </tr>\n",
       "  </tbody>\n",
       "</table>\n",
       "</div>"
      ],
      "text/plain": [
       "                                              University  \\\n",
       "19858                                 Middlebury College   \n",
       "19156    Tennessee College of Applied Technology  Ripley   \n",
       "11079                      Ross Medical Education Center   \n",
       "26012                             MarksTo Beauty Academy   \n",
       "16740                            Wright State University   \n",
       "10476                        Central Michigan University   \n",
       "22461                Northwest Technology CenterFairview   \n",
       "4081   American Health Information Management Associa...   \n",
       "13365                                Bellevue University   \n",
       "26037                           American English College   \n",
       "12074               Southwest Minnesota State University   \n",
       "7041               ITT Technical Institute  Indianapolis   \n",
       "10241                                 Simmons University   \n",
       "14073                        Lincoln Technical Institute   \n",
       "9389                University of Maryland  College Park   \n",
       "23585                      Lamar Institute of Technology   \n",
       "11797                Saint Marys University of Minnesota   \n",
       "1293                    Western International University   \n",
       "17025                             University of Oklahoma   \n",
       "343    Maricopa Community Colleges  Glendale Communit...   \n",
       "\n",
       "                                                Features  \n",
       "19858  Middlebury College at Bread Loaf School of Eng...  \n",
       "19156  Bells Instructional Service Center 6514 Highwa...  \n",
       "11079  Ross Medical Education Center  Charleston 5707...  \n",
       "26012  MarksTo Beauty Academy 1614 Brentwood Drive Pi...  \n",
       "16740  Wright State University at Washington Court Ho...  \n",
       "10476  Central Michigan University at Offutt AFB Cent...  \n",
       "22461  Northwest Technology CenterFairview 801 Tech D...  \n",
       "4081   American Health Information Management Associa...  \n",
       "13365  Bellevue University at Western Iowa Technical ...  \n",
       "26037  American English College 111 N Atlantic Blvd S...  \n",
       "12074  Southwest Minnesota State University at Watert...  \n",
       "7041   ITT Technical Institute  Pittsburgh 5460 Campb...  \n",
       "10241  Simmons College at Eric Carle Museum of Pictur...  \n",
       "14073  Lincoln Technical Institute 2299 Vauxhall Rd U...  \n",
       "9389   University of Maryland  College Park at McDani...  \n",
       "23585  Utility Line Tech 1355 Martin Luther King Sils...  \n",
       "11797  Saint Marys University of Minnesota at Capitol...  \n",
       "1293   Western International University  Peoria Campu...  \n",
       "17025  University of Oklahoma at Duncan Regional Hosp...  \n",
       "343    Moon Valley High School 3625 W Cactus Rd Phoen...  "
      ]
     },
     "execution_count": 18,
     "metadata": {},
     "output_type": "execute_result"
    }
   ],
   "source": [
    "df.sample(20)"
   ]
  },
  {
   "cell_type": "markdown",
   "metadata": {},
   "source": [
    "# Compute the Tf-Idf table"
   ]
  },
  {
   "cell_type": "code",
   "execution_count": 46,
   "metadata": {},
   "outputs": [],
   "source": [
    "import numpy.linalg as LA\n",
    "\n",
    "from sklearn.feature_extraction.text import CountVectorizer\n",
    "from sklearn.feature_extraction.text import TfidfTransformer"
   ]
  },
  {
   "cell_type": "code",
   "execution_count": 179,
   "metadata": {},
   "outputs": [
    {
     "name": "stderr",
     "output_type": "stream",
     "text": [
      "/anaconda2/envs/py36/lib/python3.6/site-packages/ipykernel/__main__.py:25: RuntimeWarning: invalid value encountered in true_divide\n"
     ]
    }
   ],
   "source": [
    "vectorizer = CountVectorizer()\n",
    "transformer = TfidfTransformer()\n",
    "\n",
    "dummy = data\n",
    "# dummy_test = data[20:30]\n",
    "dummy_test = query[100:120]\n",
    "\n",
    "# Shape: (5, 42)\n",
    "train = vectorizer.fit_transform(dummy).toarray()\n",
    "\n",
    "# Shape: (2, 42)\n",
    "test = vectorizer.transform(dummy_test).toarray()\n",
    "\n",
    "scores = np.zeros(shape=(len(train), len(test)))\n",
    "\n",
    "## Solution1: For-loop\n",
    "# for i, vector in enumerate(train):\n",
    "#     for j, testv in enumerate(test):\n",
    "#         score = np.inner(vector, testv)/(LA.norm(vector)*LA.norm(testv))\n",
    "#         scores[i][j] = score\n",
    "\n",
    "## Solution2: Vectorized\n",
    "denominator = np.dot(LA.norm(train, axis=1).reshape(-1, 1),\n",
    "                     LA.norm(test, axis=1).reshape(1, -1))\n",
    "scores_array = np.divide(np.dot(train, test.T), denominator)\n",
    "groups = scores_array.argmax(axis=0)"
   ]
  },
  {
   "cell_type": "code",
   "execution_count": 180,
   "metadata": {},
   "outputs": [
    {
     "name": "stdout",
     "output_type": "stream",
     "text": [
      "String:\t0414\n",
      "Group:\tCommunity College of the Air Force 130 W Maxwell Blvd Montgomery AL 36\n",
      "Similarity:\tnan\n",
      "\n",
      "String:\tDep of Plant and Soil Sciences Oklahoma State Univ Stillwater OK 74078\n",
      "Group:\tOklahoma State University 107 Whitehurst Hall Stillwater OK 74078\n",
      "Similarity:\t0.5547001962252291\n",
      "\n",
      "String:\t044 N Agricultural Hall Oklahoma State University Stillwater OK 74078\n",
      "Group:\tOklahoma State University 107 Whitehurst Hall Stillwater OK 74078\n",
      "Similarity:\t0.8249579113843053\n",
      "\n",
      "String:\t04UR1502\n",
      "Group:\tCommunity College of the Air Force 130 W Maxwell Blvd Montgomery AL 36\n",
      "Similarity:\tnan\n",
      "\n",
      "String:\t04UR150204UR1502\n",
      "Group:\tCommunity College of the Air Force 130 W Maxwell Blvd Montgomery AL 36\n",
      "Similarity:\tnan\n",
      "\n",
      "String:\t11 Shijiazhuang Department of Molecular Biology Hebei Cancer Institute\n",
      "Group:\tIllinois Institute of Technology  Institute of Design 350 N LaSalle Ch\n",
      "Similarity:\t0.4472135954999579\n",
      "\n",
      "String:\t051 Base CNGC Huayin China\n",
      "Group:\tColorado State University  Pueblo at Peterson Air Force Base Peterson \n",
      "Similarity:\t0.36380343755449945\n",
      "\n",
      "String:\t05518 Centros\n",
      "Group:\tCommunity College of the Air Force 130 W Maxwell Blvd Montgomery AL 36\n",
      "Similarity:\tnan\n",
      "\n",
      "String:\t059700\n",
      "Group:\tCommunity College of the Air Force 130 W Maxwell Blvd Montgomery AL 36\n",
      "Similarity:\tnan\n",
      "\n",
      "String:\tge of Education and Health Sciences Bradley University Peoria IL 61625\n",
      "Group:\tBradley University 1501 W Bradley Ave Peoria IL 616250001\n",
      "Similarity:\t0.451848057057532\n",
      "\n",
      "String:\tsevelt Ave Flushing New York USA05 Roosevelt Ave Flushing New York USA\n",
      "Group:\tNew York College of Podiatric Medicine 1800 Park Ave New York NY 10035\n",
      "Similarity:\t0.5170876899950192\n",
      "\n",
      "String:\t05UR0911 High Institute of Biotechnology Monastir Tunisia\n",
      "Group:\tIllinois Institute of Technology  Institute of Design 350 N LaSalle Ch\n",
      "Similarity:\t0.5\n",
      "\n",
      "String:\t0 5YW UK\n",
      "Group:\tCommunity College of the Air Force 130 W Maxwell Blvd Montgomery AL 36\n",
      "Similarity:\tnan\n",
      "\n",
      "String:\t1 class of Computer Science  Technology Hubei University of Technology\n",
      "Group:\tUniversity of Massachusetts Amherst at High School of Science and Tech\n",
      "Similarity:\t0.5298129428260175\n",
      "\n",
      "String:\tSAPsychiatry and Human Behavior University of California Irvine CA USA\n",
      "Group:\tVA Long Beach Healthcare System Building 166 Room F218 5901 East 7th S\n",
      "Similarity:\t0.5582905262390825\n",
      "\n",
      "String:\t061 Galicia Sur Galicia SpainH Quiron Madrid Spain\n",
      "Group:\tWilliam Woods University at New Madrid High School 310 US Highway 61 N\n",
      "Similarity:\t0.2581988897471611\n",
      "\n",
      "String:\t061 Military Representative Office of PLA Guiyang 550009 China\n",
      "Group:\tUniversity of Oklahoma at AP Yokosuka Office US Military Base in Yokos\n",
      "Similarity:\t0.375\n",
      "\n",
      "String:\t062056\n",
      "Group:\tCommunity College of the Air Force 130 W Maxwell Blvd Montgomery AL 36\n",
      "Similarity:\tnan\n",
      "\n",
      "String:\t06340 Cebeci Cankaya Ankara Turkey06340 Cebeci Cankaya Ankara Turkey\n",
      "Group:\tBrown  Pfizer 257 Eastern Point Rd Groton CT 06340\n",
      "Similarity:\t0.2357022603955158\n",
      "\n",
      "String:\t06560 Valbonne\n",
      "Group:\tCommunity College of the Air Force 130 W Maxwell Blvd Montgomery AL 36\n",
      "Similarity:\tnan\n",
      "\n"
     ]
    }
   ],
   "source": [
    "for i, group in enumerate(groups):\n",
    "    print(\"String:\\t{}\".format(dummy_test[i][-70:]))\n",
    "    print(\"Group:\\t{}\".format(dummy[group][:70]))\n",
    "    print(\"Similarity:\\t{}\".format(scores_array[group][i]))\n",
    "    print()"
   ]
  },
  {
   "cell_type": "markdown",
   "metadata": {},
   "source": [
    "# Query"
   ]
  },
  {
   "cell_type": "code",
   "execution_count": 104,
   "metadata": {},
   "outputs": [
    {
     "data": {
      "text/plain": [
       "[(0.39864781862538884, '10524 California Institute of Technology'),\n",
       " (0.3444626099831442,\n",
       "  '0ffice of Information Teclhnology Georgia Institute of TechnologyTAB'),\n",
       " (0.23503090133769758,\n",
       "  '10524 Robinson Lab California Institute of Technology Pasadena California 91125'),\n",
       " (0.09859764475914322,\n",
       "  '0601 class of Computer Science  Technology Hubei University of Technology'),\n",
       " (0.08551410564996555,\n",
       "  '100 Haiquan Road Dept of Food Science and Technology Shanghai Inst of Technology Shanghai China'),\n",
       " (0.08468069944196469,\n",
       "  '100 Bureau DR National Institute of Standards and Technology Gaithersburg MD 208998662 USA'),\n",
       " (0.07763169629565018,\n",
       "  '100 Bureau Drive Stop 8940 National Institute of Standards  Technology Gaithersburg Maryland 20899TAB'),\n",
       " (0.0773660503472803,\n",
       "  '100 Bureau Drive Stop 8423 National Institute of Standards and Technology Gaithersburg Maryland 208998423 USA'),\n",
       " (0.07322102476361969, '101st University Hospital Clinic Tbilisi Georgia'),\n",
       " (0.07061979351151958,\n",
       "  '100 Bureau Drive National Institute of Standards and Technology Gaithersburg MD 208998212 USA Gaithersburg Maryland 208998212 UNITED STATES')]"
      ]
     },
     "execution_count": 104,
     "metadata": {},
     "output_type": "execute_result"
    }
   ],
   "source": [
    "# heapq.nlargest(10, a.query(\"University\"))\n",
    "heapq.nlargest(10, a.query(\"Georgia Institute of Technology\"))\n",
    "# heapq.nlargest(10, a.query(\"100 Radiation Center Oregon State University Corvallis\"))"
   ]
  },
  {
   "cell_type": "code",
   "execution_count": null,
   "metadata": {},
   "outputs": [],
   "source": []
  },
  {
   "cell_type": "code",
   "execution_count": null,
   "metadata": {},
   "outputs": [],
   "source": []
  },
  {
   "cell_type": "code",
   "execution_count": null,
   "metadata": {},
   "outputs": [],
   "source": []
  }
 ],
 "metadata": {
  "kernelspec": {
   "display_name": "Python [conda env:py36]",
   "language": "python",
   "name": "conda-env-py36-py"
  },
  "language_info": {
   "codemirror_mode": {
    "name": "ipython",
    "version": 3
   },
   "file_extension": ".py",
   "mimetype": "text/x-python",
   "name": "python",
   "nbconvert_exporter": "python",
   "pygments_lexer": "ipython3",
   "version": "3.6.7"
  }
 },
 "nbformat": 4,
 "nbformat_minor": 2
}
